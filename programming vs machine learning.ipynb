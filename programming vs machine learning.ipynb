{
  "nbformat": 4,
  "nbformat_minor": 0,
  "metadata": {
    "colab": {
      "name": "ML 1 Introduction : machine learning the next level coding",
      "provenance": [],
      "authorship_tag": "ABX9TyNZy/aDWrIHwT1ts0UIw1yv",
      "include_colab_link": true
    },
    "kernelspec": {
      "name": "python3",
      "display_name": "Python 3"
    }
  },
  "cells": [
    {
      "cell_type": "markdown",
      "metadata": {
        "id": "view-in-github",
        "colab_type": "text"
      },
      "source": [
        "<a href=\"https://colab.research.google.com/github/mohfadhil/intro-to-ml/blob/master/programming%20vs%20machine%20learning.ipynb\" target=\"_parent\"><img src=\"https://colab.research.google.com/assets/colab-badge.svg\" alt=\"Open In Colab\"/></a>"
      ]
    },
    {
      "cell_type": "markdown",
      "metadata": {
        "id": "1Jur6soW3-Ra",
        "colab_type": "text"
      },
      "source": [
        "ماهو الفرق بين البرمجة التقليدية وتعلم الالة ! 2"
      ]
    },
    {
      "cell_type": "code",
      "metadata": {
        "id": "59HmL6y-XJOa",
        "colab_type": "code",
        "outputId": "c94069e9-e6a5-41f2-be8c-504be4666074",
        "colab": {
          "base_uri": "https://localhost:8080/",
          "height": 34
        }
      },
      "source": [
        "import tensorflow as tf\n",
        "import numpy as np\n",
        "from tensorflow import keras\n",
        "import random\n",
        "try:\n",
        "  # %tensorflow_version only exists in Colab.\n",
        "  %tensorflow_version 2.x\n",
        "  print(tf.__version__)\n",
        "except Exception:\n",
        "  print ('not TF2')\n"
      ],
      "execution_count": 0,
      "outputs": [
        {
          "output_type": "stream",
          "text": [
            "2.2.0-rc4\n"
          ],
          "name": "stdout"
        }
      ]
    },
    {
      "cell_type": "code",
      "metadata": {
        "id": "ARgf8iIhdq0z",
        "colab_type": "code",
        "colab": {}
      },
      "source": [
        "def my_function(x):\n",
        "  y = (3 * x) + 1.0\n",
        "  return y\n",
        "xs=[]\n",
        "ys=[]\n",
        "for x in range (2000):\n",
        "  random.seed(x)\n",
        "  r=random.randrange(25)\n",
        "  print (r,my_function(r))\n",
        "  xs.append(r)\n",
        "  ys.append(my_function(r))\n"
      ],
      "execution_count": 0,
      "outputs": []
    },
    {
      "cell_type": "markdown",
      "metadata": {
        "id": "RaQjY4tIb3Rt",
        "colab_type": "text"
      },
      "source": [
        "Import important libraries..."
      ]
    },
    {
      "cell_type": "code",
      "metadata": {
        "id": "xuT1tpNib2rp",
        "colab_type": "code",
        "colab": {}
      },
      "source": [
        "model = tf.keras.Sequential([keras.layers.Dense(units=3, input_shape=[1])])\n",
        "model.compile(optimizer='sgd', loss='mean_squared_error')"
      ],
      "execution_count": 0,
      "outputs": []
    },
    {
      "cell_type": "code",
      "metadata": {
        "id": "auAhkggxcbsv",
        "colab_type": "code",
        "colab": {}
      },
      "source": [
        "xs = np.array(xs, dtype=float)\n",
        "ys = np.array(ys, dtype=float)"
      ],
      "execution_count": 0,
      "outputs": []
    },
    {
      "cell_type": "code",
      "metadata": {
        "id": "l2Gon9ZXcei_",
        "colab_type": "code",
        "outputId": "e9775368-3c90-41e5-fb17-7b793b64b488",
        "colab": {
          "base_uri": "https://localhost:8080/",
          "height": 562
        }
      },
      "source": [
        "model.fit(xs, ys, epochs=15)"
      ],
      "execution_count": 0,
      "outputs": [
        {
          "output_type": "stream",
          "text": [
            "Epoch 1/15\n",
            "63/63 [==============================] - 0s 1ms/step - loss: 53.4536\n",
            "Epoch 2/15\n",
            "63/63 [==============================] - 0s 1ms/step - loss: 0.1452\n",
            "Epoch 3/15\n",
            "63/63 [==============================] - 0s 1ms/step - loss: 0.1143\n",
            "Epoch 4/15\n",
            "63/63 [==============================] - 0s 1ms/step - loss: 0.0914\n",
            "Epoch 5/15\n",
            "63/63 [==============================] - 0s 1ms/step - loss: 0.0725\n",
            "Epoch 6/15\n",
            "63/63 [==============================] - 0s 1ms/step - loss: 0.0585\n",
            "Epoch 7/15\n",
            "63/63 [==============================] - 0s 1ms/step - loss: 0.0458\n",
            "Epoch 8/15\n",
            "63/63 [==============================] - 0s 1ms/step - loss: 0.0365\n",
            "Epoch 9/15\n",
            "63/63 [==============================] - 0s 1ms/step - loss: 0.0289\n",
            "Epoch 10/15\n",
            "63/63 [==============================] - 0s 1ms/step - loss: 0.0234\n",
            "Epoch 11/15\n",
            "63/63 [==============================] - 0s 1ms/step - loss: 0.0185\n",
            "Epoch 12/15\n",
            "63/63 [==============================] - 0s 1ms/step - loss: 0.0146\n",
            "Epoch 13/15\n",
            "63/63 [==============================] - 0s 1ms/step - loss: 0.0119\n",
            "Epoch 14/15\n",
            "63/63 [==============================] - 0s 1ms/step - loss: 0.0093\n",
            "Epoch 15/15\n",
            "63/63 [==============================] - 0s 1ms/step - loss: 0.0074\n"
          ],
          "name": "stdout"
        },
        {
          "output_type": "execute_result",
          "data": {
            "text/plain": [
              "<tensorflow.python.keras.callbacks.History at 0x7f56aeebd4a8>"
            ]
          },
          "metadata": {
            "tags": []
          },
          "execution_count": 29
        }
      ]
    },
    {
      "cell_type": "code",
      "metadata": {
        "id": "Ru-LLbZqeeKo",
        "colab_type": "code",
        "outputId": "b59c6208-e93b-4ca9-da6d-422ce39b519f",
        "colab": {
          "base_uri": "https://localhost:8080/",
          "height": 34
        }
      },
      "source": [
        "print (my_function(25))"
      ],
      "execution_count": 0,
      "outputs": [
        {
          "output_type": "stream",
          "text": [
            "76.0\n"
          ],
          "name": "stdout"
        }
      ]
    },
    {
      "cell_type": "code",
      "metadata": {
        "id": "1sQ_ElaucjC8",
        "colab_type": "code",
        "outputId": "b4b5e0cc-0f22-47c6-824b-b29fecead3a7",
        "colab": {
          "base_uri": "https://localhost:8080/",
          "height": 52
        }
      },
      "source": [
        "print(round(model.predict([25])[0][0]))\n",
        "print(model.predict([25])[0][0])"
      ],
      "execution_count": 0,
      "outputs": [
        {
          "output_type": "stream",
          "text": [
            "76.0\n",
            "76.10942\n"
          ],
          "name": "stdout"
        }
      ]
    },
    {
      "cell_type": "code",
      "metadata": {
        "id": "dU9syWvh2_oh",
        "colab_type": "code",
        "outputId": "94c2bcce-967f-4777-cd09-907be7d2acba",
        "colab": {
          "base_uri": "https://localhost:8080/",
          "height": 34
        }
      },
      "source": [
        "ys"
      ],
      "execution_count": 0,
      "outputs": [
        {
          "output_type": "execute_result",
          "data": {
            "text/plain": [
              "array([37., 13.,  4., ..., 73., 55., 10.])"
            ]
          },
          "metadata": {
            "tags": []
          },
          "execution_count": 32
        }
      ]
    }
  ]
}